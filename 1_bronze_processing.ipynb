{
 "cells": [
  {
   "cell_type": "markdown",
   "metadata": {
    "application/vnd.databricks.v1+cell": {
     "cellMetadata": {},
     "inputWidgets": {},
     "nuid": "c6114c8a-f6e7-4dd1-ba19-fe5bc5da53ef",
     "showTitle": false,
     "tableResultSettingsMap": {},
     "title": ""
    }
   },
   "source": [
    "# Bronze: raw ingestion of three delta streams"
   ]
  },
  {
   "cell_type": "code",
   "execution_count": 0,
   "metadata": {
    "application/vnd.databricks.v1+cell": {
     "cellMetadata": {
      "byteLimit": 2048000,
      "rowLimit": 10000
     },
     "inputWidgets": {},
     "nuid": "fa34f7b2-6558-4486-a37e-88e97c34106f",
     "showTitle": false,
     "tableResultSettingsMap": {},
     "title": ""
    }
   },
   "outputs": [],
   "source": [
    "import dlt\n",
    "\n",
    "\n",
    "\n",
    "@dlt.table(name=\"01_bronze.bridge_temperature\", comment=\"Raw temperature readings\")\n",
    "def bronze_bridge_temperature():\n",
    "    return (\n",
    "        spark.readStream\n",
    "             .format(\"delta\")\n",
    "             .load(\"/Volumes/bridge_monitoring/00_landing/streaming/bridge_temperature\")\n",
    "    )\n",
    "\n",
    "@dlt.table(name=\"01_bronze.bridge_vibration\", comment=\"Raw vibration readings\")\n",
    "def bronze_bridge_vibration():\n",
    "    return (\n",
    "        spark.readStream\n",
    "             .format(\"delta\")\n",
    "             .load(\"/Volumes/bridge_monitoring/00_landing/streaming/bridge_vibration\")\n",
    "    )\n",
    "\n",
    "@dlt.table(name=\"01_bronze.bridge_tilt\", comment=\"Raw tilt‐angle readings\")\n",
    "def bronze_bridge_tilt():\n",
    "    return (\n",
    "        spark.readStream\n",
    "             .format(\"delta\")\n",
    "             .load(\"/Volumes/bridge_monitoring/00_landing/streaming/bridge_tilt\")\n",
    "    )\n"
   ]
  }
 ],
 "metadata": {
  "application/vnd.databricks.v1+notebook": {
   "computePreferences": null,
   "dashboards": [],
   "environmentMetadata": {
    "base_environment": "",
    "environment_version": "2"
   },
   "inputWidgetPreferences": null,
   "language": "python",
   "notebookMetadata": {
    "pythonIndentUnit": 4
   },
   "notebookName": "1_bronze_processing",
   "widgets": {}
  },
  "language_info": {
   "name": "python"
  }
 },
 "nbformat": 4,
 "nbformat_minor": 0
}