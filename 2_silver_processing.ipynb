{
 "cells": [
  {
   "cell_type": "markdown",
   "metadata": {
    "application/vnd.databricks.v1+cell": {
     "cellMetadata": {},
     "inputWidgets": {},
     "nuid": "45610471-bdf6-49a9-a317-60004772cfec",
     "showTitle": false,
     "tableResultSettingsMap": {},
     "title": ""
    }
   },
   "source": [
    "# Silver: static metadata + enrichment of each stream with bridge_metadata"
   ]
  },
  {
   "cell_type": "code",
   "execution_count": 0,
   "metadata": {
    "application/vnd.databricks.v1+cell": {
     "cellMetadata": {},
     "inputWidgets": {},
     "nuid": "d405a67a-95e0-40ba-a591-e7472ebeb632",
     "showTitle": false,
     "tableResultSettingsMap": {},
     "title": ""
    }
   },
   "outputs": [],
   "source": [
    "import dlt\n",
    "from pyspark.sql.functions import col"
   ]
  },
  {
   "cell_type": "markdown",
   "metadata": {
    "application/vnd.databricks.v1+cell": {
     "cellMetadata": {},
     "inputWidgets": {},
     "nuid": "76b40f6d-07ff-4a2f-a6cc-62cc73a4233f",
     "showTitle": false,
     "tableResultSettingsMap": {},
     "title": ""
    }
   },
   "source": [
    "## Bridge Metadata (Static Table)"
   ]
  },
  {
   "cell_type": "code",
   "execution_count": 0,
   "metadata": {
    "application/vnd.databricks.v1+cell": {
     "cellMetadata": {},
     "inputWidgets": {},
     "nuid": "9fc2f005-219e-47eb-9fa3-1dcc04504b8c",
     "showTitle": false,
     "tableResultSettingsMap": {},
     "title": ""
    }
   },
   "outputs": [],
   "source": [
    "@dlt.table(name=\"02_silver.bridge_metadata\", comment=\"Static metadata for five major European bridges\")\n",
    "def bridge_metadata():\n",
    "    bridges = [\n",
    "        {\"bridge_id\":1, \"name\":\"Millau Viaduct\", \"length_m\":2460,\"main_span_m\":342, \"height_m\":343, \"location\":\"Tarn Valley, France\", \"type\":\"Cable-stayed viaduct\", \"opened_year\": 2004},\n",
    "        {\"bridge_id\":2, \"name\":\"Vasco da Gama Bridge\", \"length_m\":17280, \"main_span_m\":420, \"height_m\":155, \"location\":\"Lisbon, Portugal\", \"type\":\"Box girder bridge\", \"opened_year\": 1998},\n",
    "        {\"bridge_id\":3, \"name\":\"Øresund Bridge\", \"length_m\":7845, \"main_span_m\":490, \"height_m\":204, \"location\":\"Copenhagen–Malmö, Denmark/Sweden\", \"type\":\"Cable-stayed & tunnel\",\"opened_year\":2000},\n",
    "        {\"bridge_id\":4, \"name\":\"15 July Martyrs Bridge\", \"length_m\": 1560, \"main_span_m\":1074, \"height_m\":165, \"location\":\"Istanbul, Turkey\", \"type\":\"Suspension bridge\", \"opened_year\": 1973},\n",
    "        {\"bridge_id\":5, \"name\":\"Forth Bridge\", \"length_m\":2467, \"main_span_m\":521, \"height_m\":110, \"location\":\"Firth of Forth, Scotland\", \"type\":\"Cantilever railway bridge\",\"opened_year\":1890},\n",
    "    ]\n",
    "    return spark.createDataFrame(bridges)"
   ]
  },
  {
   "cell_type": "markdown",
   "metadata": {
    "application/vnd.databricks.v1+cell": {
     "cellMetadata": {},
     "inputWidgets": {},
     "nuid": "8a4eaa5e-2a51-43f0-8dc1-b2b2a9a16c6f",
     "showTitle": false,
     "tableResultSettingsMap": {},
     "title": ""
    }
   },
   "source": [
    "## Bridge Temperature (Streaming Table)"
   ]
  },
  {
   "cell_type": "code",
   "execution_count": 0,
   "metadata": {
    "application/vnd.databricks.v1+cell": {
     "cellMetadata": {},
     "inputWidgets": {},
     "nuid": "401efef1-5525-480a-b8da-cde389dad17b",
     "showTitle": false,
     "tableResultSettingsMap": {},
     "title": ""
    }
   },
   "outputs": [],
   "source": [
    "@dlt.table(name=\"02_silver.bridge_temperature\", comment=\"Temperature enriched with metadata\")\n",
    "@dlt.expect_or_drop(\"valid_event_time\", \"event_time IS NOT NULL\")\n",
    "@dlt.expect(\"valid_temperature_range\", \"temperature BETWEEN -20 AND 60\")\n",
    "def silver_bridge_temperature():\n",
    "    return (\n",
    "      dlt.read_stream(\"01_bronze.bridge_temperature\")\n",
    "         .withColumn(\"event_time\", col(\"event_time\").cast(\"timestamp\"))\n",
    "         .withColumnRenamed(\"device_id\", \"bridge_id\")\n",
    "         .join(dlt.read(\"02_silver.bridge_metadata\"), on=\"bridge_id\", how=\"left\")\n",
    "         .select(\n",
    "           col(\"bridge_id\"), col(\"name\"), col(\"location\"),\n",
    "           col(\"event_time\"), col(\"temperature\")\n",
    "         )\n",
    "    )\n",
    "   "
   ]
  },
  {
   "cell_type": "markdown",
   "metadata": {
    "application/vnd.databricks.v1+cell": {
     "cellMetadata": {},
     "inputWidgets": {},
     "nuid": "019bf4f0-2859-4f4b-80e2-fefbc61ada09",
     "showTitle": false,
     "tableResultSettingsMap": {},
     "title": ""
    }
   },
   "source": [
    "## Bridge Vibration (Streaming Table)"
   ]
  },
  {
   "cell_type": "code",
   "execution_count": 0,
   "metadata": {
    "application/vnd.databricks.v1+cell": {
     "cellMetadata": {},
     "inputWidgets": {},
     "nuid": "e9552ff9-5c54-4a00-9cb3-75033f3d6f37",
     "showTitle": false,
     "tableResultSettingsMap": {},
     "title": ""
    }
   },
   "outputs": [],
   "source": [
    "@dlt.table(name=\"02_silver.bridge_vibration\", comment=\"Vibration enriched with metadata\")\n",
    "@dlt.expect_or_drop(\"valid_event_time\", \"event_time IS NOT NULL\")\n",
    "@dlt.expect(\"valid_vibration_range\", \"vibration BETWEEN 0 AND 0.1\")\n",
    "def silver_bridge_vibration():\n",
    "    return (\n",
    "      dlt.read_stream(\"01_bronze.bridge_vibration\")\n",
    "         .withColumn(\"event_time\", col(\"event_time\").cast(\"timestamp\"))\n",
    "         .withColumnRenamed(\"device_id\", \"bridge_id\")\n",
    "         .join(dlt.read(\"02_silver.bridge_metadata\"), on=\"bridge_id\", how=\"left\")\n",
    "         .select(\n",
    "           col(\"bridge_id\"), col(\"name\"), col(\"location\"),\n",
    "           col(\"event_time\"), col(\"vibration\")\n",
    "         )\n",
    "    )"
   ]
  },
  {
   "cell_type": "markdown",
   "metadata": {
    "application/vnd.databricks.v1+cell": {
     "cellMetadata": {},
     "inputWidgets": {},
     "nuid": "8126d399-13ee-4ca0-8eb4-dec0a1fe1719",
     "showTitle": false,
     "tableResultSettingsMap": {},
     "title": ""
    }
   },
   "source": [
    "## Bridge Tilt (Streaming Table)"
   ]
  },
  {
   "cell_type": "code",
   "execution_count": 0,
   "metadata": {
    "application/vnd.databricks.v1+cell": {
     "cellMetadata": {},
     "inputWidgets": {},
     "nuid": "509e32da-c156-4e73-9fb9-96244d9ca60f",
     "showTitle": false,
     "tableResultSettingsMap": {},
     "title": ""
    }
   },
   "outputs": [],
   "source": [
    "@dlt.table(name=\"02_silver.bridge_tilt\", comment=\"Tilt angle enriched with metadata\")\n",
    "@dlt.expect_or_drop(\"valid_event_time\", \"event_time IS NOT NULL\")\n",
    "@dlt.expect(\"valid_tilt_range\", \"tilt_angle BETWEEN -0.005 AND 0.005\")\n",
    "def silver_bridge_tilt():\n",
    "    return (\n",
    "      dlt.read_stream(\"01_bronze.bridge_tilt\")\n",
    "         .withColumn(\"event_time\", col(\"event_time\").cast(\"timestamp\"))\n",
    "         .withColumnRenamed(\"device_id\", \"bridge_id\")\n",
    "         .join(dlt.read(\"02_silver.bridge_metadata\"), on=\"bridge_id\", how=\"left\")\n",
    "         .select(\n",
    "           col(\"bridge_id\"), col(\"name\"), col(\"location\"),\n",
    "           col(\"event_time\"), col(\"tilt_angle\")\n",
    "         )\n",
    "    )"
   ]
  }
 ],
 "metadata": {
  "application/vnd.databricks.v1+notebook": {
   "computePreferences": null,
   "dashboards": [],
   "environmentMetadata": {
    "base_environment": "",
    "environment_version": "2"
   },
   "inputWidgetPreferences": null,
   "language": "python",
   "notebookMetadata": {
    "pythonIndentUnit": 4
   },
   "notebookName": "2_silver_processing",
   "widgets": {}
  },
  "kernelspec": {
   "display_name": "base",
   "language": "python",
   "name": "python3"
  },
  "language_info": {
   "name": "python"
  }
 },
 "nbformat": 4,
 "nbformat_minor": 0
}