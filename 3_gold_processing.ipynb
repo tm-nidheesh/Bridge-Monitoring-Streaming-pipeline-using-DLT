{
 "cells": [
  {
   "cell_type": "markdown",
   "metadata": {
    "application/vnd.databricks.v1+cell": {
     "cellMetadata": {},
     "inputWidgets": {},
     "nuid": "4e41512f-4098-4157-9193-0cccf08e42f7",
     "showTitle": false,
     "tableResultSettingsMap": {},
     "title": ""
    }
   },
   "source": [
    "# Gold: 10-minute windowed metrics combining silver aggregates"
   ]
  },
  {
   "cell_type": "code",
   "execution_count": 0,
   "metadata": {
    "application/vnd.databricks.v1+cell": {
     "cellMetadata": {},
     "inputWidgets": {},
     "nuid": "385f6cd9-9a79-48d2-8a04-cb293d6ccd99",
     "showTitle": false,
     "tableResultSettingsMap": {},
     "title": ""
    }
   },
   "outputs": [],
   "source": [
    "import dlt\n",
    "from pyspark.sql.functions import col, window, max, avg, round\n",
    "\n",
    "\n",
    "@dlt.table(\n",
    "    name=\"03_gold.bridge_metrics\",\n",
    "    comment=\"10-min avg temperature, max vibration & max tilt per bridge with window start/end\"\n",
    ")\n",
    "def bridge_metrics():\n",
    "    # Apply a 2-minute watermark to bound late data for stateful ops\n",
    "    temp = (\n",
    "      dlt.read_stream(\"02_silver.bridge_temperature\")\n",
    "         .withWatermark(\"event_time\", \"2 minutes\")\n",
    "    )\n",
    "    vib = (\n",
    "      dlt.read_stream(\"02_silver.bridge_vibration\")\n",
    "         .withWatermark(\"event_time\", \"2 minutes\")\n",
    "    )\n",
    "    tilt = (\n",
    "      dlt.read_stream(\"02_silver.bridge_tilt\")\n",
    "         .withWatermark(\"event_time\", \"2 minutes\")\n",
    "    )\n",
    "\n",
    "    # Compute 10-minute tumbling average temperature, retaining metadata\n",
    "    temp_agg = (\n",
    "      temp\n",
    "        .groupBy(\n",
    "          window(\"event_time\", \"10 minutes\"),\n",
    "          col(\"bridge_id\"),\n",
    "          col(\"name\"),\n",
    "          col(\"location\")\n",
    "        )\n",
    "        .agg(\n",
    "          avg(\"temperature\").alias(\"avg_temperature\")\n",
    "        )\n",
    "        .select(\n",
    "          col(\"bridge_id\"),\n",
    "          col(\"name\"),\n",
    "          col(\"location\"),\n",
    "          col(\"window.start\").alias(\"window_start\"),\n",
    "          col(\"window.end\").alias(\"window_end\"),\n",
    "          col(\"avg_temperature\")\n",
    "        )\n",
    "    )\n",
    "\n",
    "    # Compute 10-minute max vibration per bridge\n",
    "    vib_agg = (\n",
    "      vib\n",
    "        .groupBy(window(\"event_time\", \"10 minutes\"), col(\"bridge_id\"))\n",
    "        .agg(\n",
    "          max(\"vibration\").alias(\"max_vibration\")\n",
    "        )\n",
    "        .select(\n",
    "          col(\"bridge_id\"),\n",
    "          col(\"window.start\").alias(\"window_start\"),\n",
    "          col(\"window.end\").alias(\"window_end\"),\n",
    "          col(\"max_vibration\")\n",
    "        )\n",
    "    )\n",
    "\n",
    "    # Compute 10-minute max tilt angle per bridge\n",
    "    tilt_agg = (\n",
    "      tilt\n",
    "        .groupBy(window(\"event_time\", \"10 minutes\"), col(\"bridge_id\"))\n",
    "        .agg(\n",
    "          max(\"tilt_angle\").alias(\"max_tilt_angle\")\n",
    "        )\n",
    "        .select(\n",
    "          col(\"bridge_id\"),\n",
    "          col(\"window.start\").alias(\"window_start\"),\n",
    "          col(\"window.end\").alias(\"window_end\"),\n",
    "          col(\"max_tilt_angle\")\n",
    "        )\n",
    "    )\n",
    "\n",
    "    # Join silver aggregates on bridge_id + window bounds\n",
    "    return (\n",
    "      temp_agg.alias(\"t\")\n",
    "        .join(\n",
    "          vib_agg.alias(\"v\"),\n",
    "          on=[\"bridge_id\", \"window_start\", \"window_end\"],\n",
    "          how=\"inner\"\n",
    "        )\n",
    "        .join(\n",
    "          tilt_agg.alias(\"l\"),\n",
    "          on=[\"bridge_id\", \"window_start\", \"window_end\"],\n",
    "          how=\"inner\"\n",
    "        )\n",
    "        .select(\n",
    "          col(\"bridge_id\"),\n",
    "          col(\"name\"),\n",
    "          col(\"location\"),\n",
    "          col(\"window_start\"),\n",
    "          col(\"window_end\"),\n",
    "          round(col(\"avg_temperature\"), 2).alias(\"avg_temperature_rounded\"),\n",
    "          col(\"max_vibration\"),\n",
    "          col(\"max_tilt_angle\")\n",
    "        )\n",
    "    )"
   ]
  }
 ],
 "metadata": {
  "application/vnd.databricks.v1+notebook": {
   "computePreferences": null,
   "dashboards": [],
   "environmentMetadata": {
    "base_environment": "",
    "environment_version": "2"
   },
   "inputWidgetPreferences": null,
   "language": "python",
   "notebookMetadata": {
    "pythonIndentUnit": 4
   },
   "notebookName": "3_gold_processing",
   "widgets": {}
  },
  "language_info": {
   "name": "python"
  }
 },
 "nbformat": 4,
 "nbformat_minor": 0
}